{
 "cells": [
  {
   "metadata": {
    "ExecuteTime": {
     "end_time": "2024-06-14T09:57:38.188812Z",
     "start_time": "2024-06-14T09:57:38.175828Z"
    }
   },
   "cell_type": "code",
   "source": [
    "import os\n",
    "import shutil\n",
    "import random\n",
    "\n",
    "# Define paths\n",
    "source_folder = \"yolo format/obj_train_data\"\n",
    "destination_folder = \"images\"\n",
    "train_folder = os.path.join(destination_folder, \"train\")\n",
    "val_folder = os.path.join(destination_folder, \"val\")\n",
    "\n",
    "# Create destination folders if they don't exist\n",
    "os.makedirs(train_folder, exist_ok=True)\n",
    "os.makedirs(val_folder, exist_ok=True)\n",
    "\n",
    "# Iterate through files in source folder\n",
    "for filename in os.listdir(source_folder):\n",
    "    # Split file name and extension\n",
    "    name, ext = os.path.splitext(filename)\n",
    "    # Check if the file is an image\n",
    "    if ext.lower() in [\".jpg\", \".jpeg\", \".png\", \".bmp\"]:\n",
    "        # Determine if the image should go to train or val set\n",
    "        if random.random() < 0.8:  # 80% train, 20% val\n",
    "            destination = train_folder\n",
    "        else:\n",
    "            destination = val_folder\n",
    "        # Move image to the respective destination folder\n",
    "        shutil.move(os.path.join(source_folder, filename), os.path.join(destination, filename))\n",
    "\n",
    "# Repeat the process for annotations if they are in the same directory structure\n",
    "annotations_folder = \"yolo format/obj_train_data\"\n",
    "destination_annotations_folder = \"annotations\"\n",
    "\n",
    "train_annotations_folder = os.path.join(destination_annotations_folder, \"train\")\n",
    "val_annotations_folder = os.path.join(destination_annotations_folder, \"val\")\n",
    "\n",
    "os.makedirs(train_annotations_folder, exist_ok=True)\n",
    "os.makedirs(val_annotations_folder, exist_ok=True)\n",
    "\n",
    "# Iterate through files in source annotations folder\n",
    "for filename in os.listdir(annotations_folder):\n",
    "    # Split file name and extension\n",
    "    name, ext = os.path.splitext(filename)\n",
    "    # Check if the file is an annotation file\n",
    "    if ext.lower() in [\".xml\", \".json\", \".txt\"]:\n",
    "        # Determine if the annotation should go to train or val set (assuming same split as images)\n",
    "        if random.random() < 0.8:  # 80% train, 20% val\n",
    "            destination = train_annotations_folder\n",
    "        else:\n",
    "            destination = val_annotations_folder\n",
    "        # Move annotation file to the respective destination folder\n",
    "        shutil.move(os.path.join(annotations_folder, filename), os.path.join(destination, filename))"
   ],
   "id": "1fd6e0eb03d9a9dd",
   "outputs": [],
   "execution_count": 47
  },
  {
   "metadata": {
    "ExecuteTime": {
     "end_time": "2024-06-14T09:57:53.144674Z",
     "start_time": "2024-06-14T09:57:53.135257Z"
    }
   },
   "cell_type": "code",
   "source": [
    "from ultralytics import YOLO\n",
    "import yaml\n",
    "import os\n",
    "\n",
    "# Define paths for images and annotations\n",
    "source_image_folder = \"yolo format/obj_train_data\"\n",
    "train_image_folder = os.path.join(source_image_folder, \"train\")\n",
    "val_image_folder = os.path.join(source_image_folder, \"val\")\n",
    "\n",
    "# Define the dataset configuration\n",
    "dataset_config = {\n",
    "    'train': train_image_folder,\n",
    "    'val': val_image_folder,\n",
    "    'nc': 2,  # Number of classes\n",
    "    'names': ['Saloon Cars', 'Motorcycles']  # Class names\n",
    "}\n",
    "\n",
    "# Save the configuration to a YAML file\n",
    "ROOT_DIR = \"C:/Users/barbr/PycharmProjects/YOLOv8 Implementation\"\n",
    "config_file_path = os.path.join(ROOT_DIR, 'data.yaml')\n",
    "with open(config_file_path, 'w') as file:\n",
    "    yaml.dump(dataset_config, file, default_flow_style=False)\n",
    "\n",
    "print(f\"data.yaml file created successfully at {config_file_path}.\")\n"
   ],
   "id": "d4c508b5ed2473e8",
   "outputs": [
    {
     "name": "stdout",
     "output_type": "stream",
     "text": [
      "data.yaml file created successfully at C:/Users/barbr/PycharmProjects/YOLOv8 Implementation\\data.yaml.\n"
     ]
    }
   ],
   "execution_count": 48
  },
  {
   "metadata": {
    "ExecuteTime": {
     "end_time": "2024-06-14T13:14:15.254698Z",
     "start_time": "2024-06-14T11:57:19.859983Z"
    }
   },
   "cell_type": "code",
   "source": [
    "# Load a model\n",
    "model = YOLO(\"yolov8n.yaml\")  # assuming \"yolov8n.yaml\" is your YOLO configuration file\n",
    "\n",
    "# Full path to the YAML configuration file\n",
    "data_yaml_path = config_file_path\n",
    "\n",
    "# Use the model to train\n",
    "results = model.train(data=data_yaml_path, epochs=2)  # train the model\n"
   ],
   "id": "8ccd7ba3a640105a",
   "outputs": [
    {
     "name": "stdout",
     "output_type": "stream",
     "text": [
      "New https://pypi.org/project/ultralytics/8.2.32 available  Update with 'pip install -U ultralytics'\n",
      "Ultralytics YOLOv8.2.31  Python-3.12.2 torch-2.3.1+cpu CPU (Intel Core(TM) i5-8350U 1.70GHz)\n",
      "\u001B[34m\u001B[1mengine\\trainer: \u001B[0mtask=detect, mode=train, model=yolov8n.yaml, data=C:/Users/barbr/PycharmProjects/YOLOv8 Implementation\\data.yaml, epochs=2, time=None, patience=100, batch=16, imgsz=640, save=True, save_period=-1, cache=False, device=None, workers=8, project=None, name=train12, exist_ok=False, pretrained=True, optimizer=auto, verbose=True, seed=0, deterministic=True, single_cls=False, rect=False, cos_lr=False, close_mosaic=10, resume=False, amp=True, fraction=1.0, profile=False, freeze=None, multi_scale=False, overlap_mask=True, mask_ratio=4, dropout=0.0, val=True, split=val, save_json=False, save_hybrid=False, conf=None, iou=0.7, max_det=300, half=False, dnn=False, plots=True, source=None, vid_stride=1, stream_buffer=False, visualize=False, augment=False, agnostic_nms=False, classes=None, retina_masks=False, embed=None, show=False, save_frames=False, save_txt=False, save_conf=False, save_crop=False, show_labels=True, show_conf=True, show_boxes=True, line_width=None, format=torchscript, keras=False, optimize=False, int8=False, dynamic=False, simplify=False, opset=None, workspace=4, nms=False, lr0=0.01, lrf=0.01, momentum=0.937, weight_decay=0.0005, warmup_epochs=3.0, warmup_momentum=0.8, warmup_bias_lr=0.1, box=7.5, cls=0.5, dfl=1.5, pose=12.0, kobj=1.0, label_smoothing=0.0, nbs=64, hsv_h=0.015, hsv_s=0.7, hsv_v=0.4, degrees=0.0, translate=0.1, scale=0.5, shear=0.0, perspective=0.0, flipud=0.0, fliplr=0.5, bgr=0.0, mosaic=1.0, mixup=0.0, copy_paste=0.0, auto_augment=randaugment, erasing=0.4, crop_fraction=1.0, cfg=None, tracker=botsort.yaml, save_dir=C:\\Users\\barbr\\PycharmProjects\\YOLOv8 Implementation\\runs\\detect\\train12\n",
      "Overriding model.yaml nc=80 with nc=2\n",
      "\n",
      "                   from  n    params  module                                       arguments                     \n",
      "  0                  -1  1       464  ultralytics.nn.modules.conv.Conv             [3, 16, 3, 2]                 \n",
      "  1                  -1  1      4672  ultralytics.nn.modules.conv.Conv             [16, 32, 3, 2]                \n",
      "  2                  -1  1      7360  ultralytics.nn.modules.block.C2f             [32, 32, 1, True]             \n",
      "  3                  -1  1     18560  ultralytics.nn.modules.conv.Conv             [32, 64, 3, 2]                \n",
      "  4                  -1  2     49664  ultralytics.nn.modules.block.C2f             [64, 64, 2, True]             \n",
      "  5                  -1  1     73984  ultralytics.nn.modules.conv.Conv             [64, 128, 3, 2]               \n",
      "  6                  -1  2    197632  ultralytics.nn.modules.block.C2f             [128, 128, 2, True]           \n",
      "  7                  -1  1    295424  ultralytics.nn.modules.conv.Conv             [128, 256, 3, 2]              \n",
      "  8                  -1  1    460288  ultralytics.nn.modules.block.C2f             [256, 256, 1, True]           \n",
      "  9                  -1  1    164608  ultralytics.nn.modules.block.SPPF            [256, 256, 5]                 \n",
      " 10                  -1  1         0  torch.nn.modules.upsampling.Upsample         [None, 2, 'nearest']          \n",
      " 11             [-1, 6]  1         0  ultralytics.nn.modules.conv.Concat           [1]                           \n",
      " 12                  -1  1    148224  ultralytics.nn.modules.block.C2f             [384, 128, 1]                 \n",
      " 13                  -1  1         0  torch.nn.modules.upsampling.Upsample         [None, 2, 'nearest']          \n",
      " 14             [-1, 4]  1         0  ultralytics.nn.modules.conv.Concat           [1]                           \n",
      " 15                  -1  1     37248  ultralytics.nn.modules.block.C2f             [192, 64, 1]                  \n",
      " 16                  -1  1     36992  ultralytics.nn.modules.conv.Conv             [64, 64, 3, 2]                \n",
      " 17            [-1, 12]  1         0  ultralytics.nn.modules.conv.Concat           [1]                           \n",
      " 18                  -1  1    123648  ultralytics.nn.modules.block.C2f             [192, 128, 1]                 \n",
      " 19                  -1  1    147712  ultralytics.nn.modules.conv.Conv             [128, 128, 3, 2]              \n",
      " 20             [-1, 9]  1         0  ultralytics.nn.modules.conv.Concat           [1]                           \n",
      " 21                  -1  1    493056  ultralytics.nn.modules.block.C2f             [384, 256, 1]                 \n",
      " 22        [15, 18, 21]  1    751702  ultralytics.nn.modules.head.Detect           [2, [64, 128, 256]]           \n",
      "YOLOv8n summary: 225 layers, 3011238 parameters, 3011222 gradients, 8.2 GFLOPs\n",
      "\n",
      "Freezing layer 'model.22.dfl.conv.weight'\n"
     ]
    },
    {
     "name": "stderr",
     "output_type": "stream",
     "text": [
      "\u001B[34m\u001B[1mtrain: \u001B[0mScanning C:\\Users\\barbr\\PycharmProjects\\YOLOv8 Implementation\\labels\\train.cache... 1386 images, 433 backgrounds, 0 corrupt: 100%|██████████| 1746/1746 [00:00<?, ?it/s]\n",
      "\u001B[34m\u001B[1mval: \u001B[0mScanning C:\\Users\\barbr\\PycharmProjects\\YOLOv8 Implementation\\labels\\val.cache... 93 images, 368 backgrounds, 0 corrupt: 100%|██████████| 455/455 [00:00<?, ?it/s]\n"
     ]
    },
    {
     "name": "stdout",
     "output_type": "stream",
     "text": [
      "Plotting labels to C:\\Users\\barbr\\PycharmProjects\\YOLOv8 Implementation\\runs\\detect\\train12\\labels.jpg... \n",
      "\u001B[34m\u001B[1moptimizer:\u001B[0m 'optimizer=auto' found, ignoring 'lr0=0.01' and 'momentum=0.937' and determining best 'optimizer', 'lr0' and 'momentum' automatically... \n",
      "\u001B[34m\u001B[1moptimizer:\u001B[0m AdamW(lr=0.001667, momentum=0.9) with parameter groups 57 weight(decay=0.0), 64 weight(decay=0.0005), 63 bias(decay=0.0)\n",
      "Image sizes 640 train, 640 val\n",
      "Using 0 dataloader workers\n",
      "Logging results to \u001B[1mC:\\Users\\barbr\\PycharmProjects\\YOLOv8 Implementation\\runs\\detect\\train12\u001B[0m\n",
      "Starting training for 2 epochs...\n",
      "\n",
      "      Epoch    GPU_mem   box_loss   cls_loss   dfl_loss  Instances       Size\n"
     ]
    },
    {
     "name": "stderr",
     "output_type": "stream",
     "text": [
      "        1/2         0G      4.398      5.415       3.64         13        640: 100%|██████████| 110/110 [33:03<00:00, 18.03s/it]\n",
      "                 Class     Images  Instances      Box(P          R      mAP50  mAP50-95): 100%|██████████| 15/15 [03:09<00:00, 12.65s/it]"
     ]
    },
    {
     "name": "stdout",
     "output_type": "stream",
     "text": [
      "                   all        455        295   2.21e-05     0.0105   1.13e-05   1.41e-06\n"
     ]
    },
    {
     "name": "stderr",
     "output_type": "stream",
     "text": [
      "\n"
     ]
    },
    {
     "name": "stdout",
     "output_type": "stream",
     "text": [
      "\n",
      "      Epoch    GPU_mem   box_loss   cls_loss   dfl_loss  Instances       Size\n"
     ]
    },
    {
     "name": "stderr",
     "output_type": "stream",
     "text": [
      "        2/2         0G      2.457      3.025       2.12          0        640: 100%|██████████| 110/110 [35:05<00:00, 19.14s/it]\n",
      "                 Class     Images  Instances      Box(P          R      mAP50  mAP50-95): 100%|██████████| 15/15 [02:54<00:00, 11.62s/it]"
     ]
    },
    {
     "name": "stdout",
     "output_type": "stream",
     "text": [
      "                   all        455        295      0.175      0.356       0.12     0.0612\n"
     ]
    },
    {
     "name": "stderr",
     "output_type": "stream",
     "text": [
      "\n"
     ]
    },
    {
     "name": "stdout",
     "output_type": "stream",
     "text": [
      "\n",
      "2 epochs completed in 1.238 hours.\n",
      "Optimizer stripped from C:\\Users\\barbr\\PycharmProjects\\YOLOv8 Implementation\\runs\\detect\\train12\\weights\\last.pt, 6.2MB\n",
      "Optimizer stripped from C:\\Users\\barbr\\PycharmProjects\\YOLOv8 Implementation\\runs\\detect\\train12\\weights\\best.pt, 6.2MB\n",
      "\n",
      "Validating C:\\Users\\barbr\\PycharmProjects\\YOLOv8 Implementation\\runs\\detect\\train12\\weights\\best.pt...\n",
      "Ultralytics YOLOv8.2.31  Python-3.12.2 torch-2.3.1+cpu CPU (Intel Core(TM) i5-8350U 1.70GHz)\n",
      "YOLOv8n summary (fused): 168 layers, 3006038 parameters, 0 gradients, 8.1 GFLOPs\n"
     ]
    },
    {
     "name": "stderr",
     "output_type": "stream",
     "text": [
      "                 Class     Images  Instances      Box(P          R      mAP50  mAP50-95): 100%|██████████| 15/15 [02:21<00:00,  9.46s/it]\n"
     ]
    },
    {
     "name": "stdout",
     "output_type": "stream",
     "text": [
      "                   all        455        295      0.175      0.356       0.12     0.0614\n",
      "           Saloon Cars         61         89      0.208      0.281      0.125     0.0607\n",
      "           Motorcycles         72        206      0.143      0.432      0.115      0.062\n",
      "Speed: 5.9ms preprocess, 290.9ms inference, 0.0ms loss, 7.2ms postprocess per image\n",
      "Results saved to \u001B[1mC:\\Users\\barbr\\PycharmProjects\\YOLOv8 Implementation\\runs\\detect\\train12\u001B[0m\n"
     ]
    }
   ],
   "execution_count": 51
  }
 ],
 "metadata": {
  "kernelspec": {
   "display_name": "Python 3",
   "language": "python",
   "name": "python3"
  },
  "language_info": {
   "codemirror_mode": {
    "name": "ipython",
    "version": 2
   },
   "file_extension": ".py",
   "mimetype": "text/x-python",
   "name": "python",
   "nbconvert_exporter": "python",
   "pygments_lexer": "ipython2",
   "version": "2.7.6"
  }
 },
 "nbformat": 4,
 "nbformat_minor": 5
}
